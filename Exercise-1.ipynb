{
 "cells": [
  {
   "cell_type": "code",
   "execution_count": 50,
   "metadata": {},
   "outputs": [
    {
     "name": "stdout",
     "output_type": "stream",
     "text": [
      "7.0\n"
     ]
    },
    {
     "data": {
      "text/plain": [
       "int"
      ]
     },
     "execution_count": 50,
     "metadata": {},
     "output_type": "execute_result"
    }
   ],
   "source": [
    "ice_cream_rating = 5\n",
    "sleeping_rating = 9\n",
    "happiness_rating = (ice_cream_rating + sleeping_rating) / 2\n",
    "happines_rating_percentage = happiness_rating * 100\n",
    "print (happiness_rating)\n",
    "\n",
    "type (ice_cream_rating)"
   ]
  },
  {
   "cell_type": "code",
   "execution_count": 47,
   "metadata": {},
   "outputs": [
    {
     "data": {
      "text/plain": [
       "float"
      ]
     },
     "execution_count": 47,
     "metadata": {},
     "output_type": "execute_result"
    }
   ],
   "source": [
    "type (happiness_rating)"
   ]
  },
  {
   "cell_type": "code",
   "execution_count": 44,
   "metadata": {},
   "outputs": [
    {
     "name": "stdin",
     "output_type": "stream",
     "text": [
      "Your first name:  Deni\n",
      "Your last name:  Mildan\n"
     ]
    },
    {
     "name": "stdout",
     "output_type": "stream",
     "text": [
      "Deni Mildan\n"
     ]
    },
    {
     "data": {
      "text/plain": [
       "str"
      ]
     },
     "execution_count": 44,
     "metadata": {},
     "output_type": "execute_result"
    }
   ],
   "source": [
    "first_name = input ('Your first name: ')\n",
    "last_name = input ('Your last name: ')\n",
    "my_name = first_name + ' ' +last_name\n",
    "print (my_name)\n",
    "type (first_name)"
   ]
  },
  {
   "cell_type": "code",
   "execution_count": 52,
   "metadata": {},
   "outputs": [
    {
     "name": "stdout",
     "output_type": "stream",
     "text": [
      "My name is  Deni and I give eating ice cream a score of  5 out of 10!\n",
      "I am  Deni Mildan and my sleeping enjoyment rating is  9 /10!\n",
      "Based on the factors above, my happiness rating is  7.0  out of 10, or  7.0 %!\n"
     ]
    }
   ],
   "source": [
    "print ('My name is ', first_name, 'and I give eating ice cream a score of ', ice_cream_rating, 'out of 10!')\n",
    "print ('I am ', my_name, 'and my sleeping enjoyment rating is ', sleeping_rating, '/10!')\n",
    "print ('Based on the factors above, my happiness rating is ', happiness_rating, ' out of 10, or ', happiness_rating, '%!')"
   ]
  },
  {
   "cell_type": "code",
   "execution_count": null,
   "metadata": {},
   "outputs": [],
   "source": []
  }
 ],
 "metadata": {
  "kernelspec": {
   "display_name": "Python 3",
   "language": "python",
   "name": "python3"
  },
  "language_info": {
   "codemirror_mode": {
    "name": "ipython",
    "version": 3
   },
   "file_extension": ".py",
   "mimetype": "text/x-python",
   "name": "python",
   "nbconvert_exporter": "python",
   "pygments_lexer": "ipython3",
   "version": "3.8.3"
  }
 },
 "nbformat": 4,
 "nbformat_minor": 4
}
